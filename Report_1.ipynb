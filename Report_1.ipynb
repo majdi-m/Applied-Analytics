{
 "cells": [
  {
   "cell_type": "code",
   "execution_count": 2,
   "metadata": {},
   "outputs": [],
   "source": [
    "import pandas as pd \n",
    "import numpy as np \n",
    "import operator\n",
    "import matplotlib.pyplot as plt\n",
    "import seaborn as sns; sns.set()\n",
    "from sklearn import neighbors, datasets, preprocessing\n",
    "from sklearn.preprocessing import StandardScaler, MinMaxScaler\n",
    "from sklearn.datasets import make_blobs, load_digits\n",
    "from sklearn.cluster import KMeans\n",
    "from sklearn.metrics import silhouette_score, mean_squared_error, accuracy_score, classification_report, confusion_matrix\n",
    "from sklearn.decomposition import PCA\n",
    "from sklearn.model_selection import train_test_split, cross_val_score\n",
    "from sklearn.linear_model import LinearRegression\n",
    "from sklearn.neighbors import KNeighborsClassifier\n"
   ]
  },
  {
   "cell_type": "markdown",
   "metadata": {},
   "source": [
    "Unpacking GetEmployedForum.csv\n"
   ]
  },
  {
   "cell_type": "code",
   "execution_count": 3,
   "metadata": {},
   "outputs": [
    {
     "data": {
      "text/html": [
       "<div>\n",
       "<style scoped>\n",
       "    .dataframe tbody tr th:only-of-type {\n",
       "        vertical-align: middle;\n",
       "    }\n",
       "\n",
       "    .dataframe tbody tr th {\n",
       "        vertical-align: top;\n",
       "    }\n",
       "\n",
       "    .dataframe thead th {\n",
       "        text-align: right;\n",
       "    }\n",
       "</style>\n",
       "<table border=\"1\" class=\"dataframe\">\n",
       "  <thead>\n",
       "    <tr style=\"text-align: right;\">\n",
       "      <th></th>\n",
       "      <th>CommentContent</th>\n",
       "      <th>score</th>\n",
       "      <th>posemo</th>\n",
       "      <th>negemo</th>\n",
       "      <th>anx</th>\n",
       "      <th>anger</th>\n",
       "      <th>sad</th>\n",
       "      <th>focuspast</th>\n",
       "      <th>focuspresent</th>\n",
       "      <th>focusfuture</th>\n",
       "      <th>work</th>\n",
       "    </tr>\n",
       "  </thead>\n",
       "  <tbody>\n",
       "    <tr>\n",
       "      <th>0</th>\n",
       "      <td>that s actually 20 jobs in a month lol i didn ...</td>\n",
       "      <td>1.0</td>\n",
       "      <td>7.89</td>\n",
       "      <td>0.00</td>\n",
       "      <td>0.0</td>\n",
       "      <td>0.0</td>\n",
       "      <td>0.00</td>\n",
       "      <td>2.63</td>\n",
       "      <td>10.53</td>\n",
       "      <td>0.00</td>\n",
       "      <td>7.89</td>\n",
       "    </tr>\n",
       "    <tr>\n",
       "      <th>1</th>\n",
       "      <td>yeahh the shining shimmering splendid that is ...</td>\n",
       "      <td>1.0</td>\n",
       "      <td>10.34</td>\n",
       "      <td>3.45</td>\n",
       "      <td>0.0</td>\n",
       "      <td>0.0</td>\n",
       "      <td>3.45</td>\n",
       "      <td>3.45</td>\n",
       "      <td>13.79</td>\n",
       "      <td>0.00</td>\n",
       "      <td>10.34</td>\n",
       "    </tr>\n",
       "    <tr>\n",
       "      <th>2</th>\n",
       "      <td>thank you my friend i really appreciate it</td>\n",
       "      <td>1.0</td>\n",
       "      <td>25.00</td>\n",
       "      <td>0.00</td>\n",
       "      <td>0.0</td>\n",
       "      <td>0.0</td>\n",
       "      <td>0.00</td>\n",
       "      <td>0.00</td>\n",
       "      <td>12.50</td>\n",
       "      <td>0.00</td>\n",
       "      <td>0.00</td>\n",
       "    </tr>\n",
       "    <tr>\n",
       "      <th>3</th>\n",
       "      <td>first of all congratulations we all know how h...</td>\n",
       "      <td>1.0</td>\n",
       "      <td>15.62</td>\n",
       "      <td>0.00</td>\n",
       "      <td>0.0</td>\n",
       "      <td>0.0</td>\n",
       "      <td>0.00</td>\n",
       "      <td>3.12</td>\n",
       "      <td>18.75</td>\n",
       "      <td>6.25</td>\n",
       "      <td>3.12</td>\n",
       "    </tr>\n",
       "    <tr>\n",
       "      <th>4</th>\n",
       "      <td>absolutely is a factor i had the same issue wh...</td>\n",
       "      <td>1.0</td>\n",
       "      <td>0.00</td>\n",
       "      <td>0.00</td>\n",
       "      <td>0.0</td>\n",
       "      <td>0.0</td>\n",
       "      <td>0.00</td>\n",
       "      <td>5.88</td>\n",
       "      <td>11.76</td>\n",
       "      <td>1.96</td>\n",
       "      <td>5.88</td>\n",
       "    </tr>\n",
       "  </tbody>\n",
       "</table>\n",
       "</div>"
      ],
      "text/plain": [
       "                                      CommentContent  score  posemo  negemo  \\\n",
       "0  that s actually 20 jobs in a month lol i didn ...    1.0    7.89    0.00   \n",
       "1  yeahh the shining shimmering splendid that is ...    1.0   10.34    3.45   \n",
       "2        thank you my friend i really appreciate it     1.0   25.00    0.00   \n",
       "3  first of all congratulations we all know how h...    1.0   15.62    0.00   \n",
       "4  absolutely is a factor i had the same issue wh...    1.0    0.00    0.00   \n",
       "\n",
       "   anx  anger   sad  focuspast  focuspresent  focusfuture   work  \n",
       "0  0.0    0.0  0.00       2.63         10.53         0.00   7.89  \n",
       "1  0.0    0.0  3.45       3.45         13.79         0.00  10.34  \n",
       "2  0.0    0.0  0.00       0.00         12.50         0.00   0.00  \n",
       "3  0.0    0.0  0.00       3.12         18.75         6.25   3.12  \n",
       "4  0.0    0.0  0.00       5.88         11.76         1.96   5.88  "
      ]
     },
     "execution_count": 3,
     "metadata": {},
     "output_type": "execute_result"
    }
   ],
   "source": [
    "employ = pd.read_csv(\"/Users/me./Desktop/Spring '22 /APP Analytics & P Modeling/Project/GetEmployedForum.csv\")\n",
    "# print(len(employ))\n",
    "employ1 = employ.drop_duplicates() #drop duplicate rows\n",
    "employ1 = employ1.replace(0, np.nan)\n",
    "employ1 = employ1.drop(columns = ['datePosted','pronoun','article','auxverb','adverb','conj','verb','adj','cogproc','informal'])\n",
    "\n",
    "employ1 = employ1.dropna(axis = 0, thresh = 2, subset = ['posemo','negemo','anx','anger','sad','focuspast','focuspresent','focusfuture','work']) #drop rows where less than 2 columns are NaN values\n",
    "newe = employ1.replace(np.nan, 0) #return NaN as original 0 values \n",
    "newe.head()"
   ]
  },
  {
   "cell_type": "markdown",
   "metadata": {},
   "source": [
    "PART 1 "
   ]
  },
  {
   "cell_type": "markdown",
   "metadata": {},
   "source": [
    "HeatMap\n"
   ]
  },
  {
   "cell_type": "code",
   "execution_count": 4,
   "metadata": {},
   "outputs": [
    {
     "data": {
      "text/plain": [
       "Text(0.5, 1.0, 'Correlation HeatMap')"
      ]
     },
     "execution_count": 4,
     "metadata": {},
     "output_type": "execute_result"
    },
    {
     "data": {
      "image/png": "[encoded data removed]",
      "text/plain": [
       "<Figure size 432x288 with 2 Axes>"
      ]
     },
     "metadata": {},
     "output_type": "display_data"
    }
   ],
   "source": [
    "g = sns.heatmap(newe.corr(), cmap = \"YlGnBu\")\n",
    "plt.title('Correlation HeatMap', fontsize= 18)"
   ]
  },
  {
   "cell_type": "markdown",
   "metadata": {},
   "source": [
    "Scatter Plot"
   ]
  },
  {
   "cell_type": "code",
   "execution_count": 5,
   "metadata": {},
   "outputs": [
    {
     "data": {
      "text/plain": [
       "<matplotlib.legend.Legend at 0x7fd381575580>"
      ]
     },
     "execution_count": 5,
     "metadata": {},
     "output_type": "execute_result"
    },
    {
     "data": {
      "image/png": "[encoded data removed]",
      "text/plain": [
       "<Figure size 432x288 with 1 Axes>"
      ]
     },
     "metadata": {},
     "output_type": "display_data"
    }
   ],
   "source": [
    "## Scatter Plot Negative Emotion TOP 3 features\n",
    "colors = np.array([\"red\",\"green\",\"blue\",\"yellow\",\n",
    "\"pink\",\"black\",\"orange\",\"purple\",\"beige\",\"brown\",\"gray\",\"cyan\",\"magenta\"])\n",
    "\n",
    "anx = newe['anx'].sample(frac=0.05)\n",
    "ang = newe['anger'].sample(frac=0.05)\n",
    "sad = newe['sad'].sample(frac=0.05)\n",
    "neg = newe['negemo'].sample(frac=0.05)\n",
    "\n",
    "fig, ax = plt.subplots()\n",
    "\n",
    "## scatter using darkest features from scatter plot\n",
    "plt.title('Negative Emotion; Corr', fontsize = 18)\n",
    "plt.ylabel('Feature', fontsize= 14, labelpad= 0)\n",
    "plt.xlabel('Negemo', fontsize=14, labelpad=10)\n",
    "\n",
    "##Sample to 10% Population size\n",
    "\n",
    "scat = ax.scatter(y= anx ,x= neg, s= neg *5,c = 'black', norm = None, vmin = None, vmax = None, alpha = .2)\n",
    "scat = ax.scatter(y= ang,x= neg, s= neg *5,c = 'red', norm = None, vmin = None, vmax = None, alpha = 0.2)\n",
    "scat = ax.scatter(y= sad,x= neg, s= neg *5,c = 'green', norm = None, vmin = None, vmax = None, alpha = .2)\n",
    "\n",
    "plt.legend(title = 'Features', loc = 'upper right', labels = ['Anx','Ang','Sad'])\n"
   ]
  },
  {
   "cell_type": "code",
   "execution_count": 6,
   "metadata": {},
   "outputs": [
    {
     "data": {
      "image/png": "[encoded data removed]",
      "text/plain": [
       "<Figure size 432x288 with 1 Axes>"
      ]
     },
     "metadata": {},
     "output_type": "display_data"
    }
   ],
   "source": [
    "## scatter using darkest features from scatter plot\n",
    "plt.title('Positive Emotion; Corr', fontsize = 18)\n",
    "plt.ylabel('Features', fontsize= 14, labelpad= 0)\n",
    "plt.xlabel('Posemo', fontsize=14, labelpad=10)\n",
    "\n",
    "##Sample to 10% Population size\n",
    "fpres = newe['focuspresent'].sample(frac=0.05)\n",
    "ffut = newe['focusfuture'].sample(frac=0.05)\n",
    "pose = newe['posemo'].sample(frac=0.05)\n",
    "\n",
    "#normalize; norm= none vmin = none vmax = none\n",
    "plt.scatter(y= ffut,x= pose, s= pose.count() *0.01,c = 'black', norm = None, vmin = None, vmax = None, alpha = 0.1)\n",
    "plt.scatter(y= fpres,x= pose, s= pose.count() *0.01,c = 'red', norm = None, vmin = None, vmax = None, alpha = 0.1)\n",
    "\n",
    "plt.legend(title = 'Features', loc = 'upper right', labels = ['focusfuture','focuspresent'])\n",
    "plt.show()"
   ]
  },
  {
   "cell_type": "markdown",
   "metadata": {},
   "source": [
    "Histogram\n"
   ]
  },
  {
   "cell_type": "code",
   "execution_count": 7,
   "metadata": {},
   "outputs": [
    {
     "data": {
      "text/html": [
       "<div>\n",
       "<style scoped>\n",
       "    .dataframe tbody tr th:only-of-type {\n",
       "        vertical-align: middle;\n",
       "    }\n",
       "\n",
       "    .dataframe tbody tr th {\n",
       "        vertical-align: top;\n",
       "    }\n",
       "\n",
       "    .dataframe thead th {\n",
       "        text-align: right;\n",
       "    }\n",
       "</style>\n",
       "<table border=\"1\" class=\"dataframe\">\n",
       "  <thead>\n",
       "    <tr style=\"text-align: right;\">\n",
       "      <th></th>\n",
       "      <th>start</th>\n",
       "      <th>end</th>\n",
       "      <th>class_mark</th>\n",
       "      <th>frec_abs</th>\n",
       "    </tr>\n",
       "  </thead>\n",
       "  <tbody>\n",
       "    <tr>\n",
       "      <th>1.0</th>\n",
       "      <td>-12.000</td>\n",
       "      <td>-8.625</td>\n",
       "      <td>-10.3125</td>\n",
       "      <td>4</td>\n",
       "    </tr>\n",
       "    <tr>\n",
       "      <th>2.0</th>\n",
       "      <td>-8.625</td>\n",
       "      <td>-5.250</td>\n",
       "      <td>-6.9375</td>\n",
       "      <td>4</td>\n",
       "    </tr>\n",
       "    <tr>\n",
       "      <th>3.0</th>\n",
       "      <td>-5.250</td>\n",
       "      <td>-1.875</td>\n",
       "      <td>-3.5625</td>\n",
       "      <td>21</td>\n",
       "    </tr>\n",
       "    <tr>\n",
       "      <th>4.0</th>\n",
       "      <td>-1.875</td>\n",
       "      <td>1.500</td>\n",
       "      <td>-0.1875</td>\n",
       "      <td>2940</td>\n",
       "    </tr>\n",
       "    <tr>\n",
       "      <th>5.0</th>\n",
       "      <td>1.500</td>\n",
       "      <td>4.875</td>\n",
       "      <td>3.1875</td>\n",
       "      <td>1378</td>\n",
       "    </tr>\n",
       "    <tr>\n",
       "      <th>6.0</th>\n",
       "      <td>4.875</td>\n",
       "      <td>8.250</td>\n",
       "      <td>6.5625</td>\n",
       "      <td>263</td>\n",
       "    </tr>\n",
       "    <tr>\n",
       "      <th>7.0</th>\n",
       "      <td>8.250</td>\n",
       "      <td>11.625</td>\n",
       "      <td>9.9375</td>\n",
       "      <td>72</td>\n",
       "    </tr>\n",
       "    <tr>\n",
       "      <th>8.0</th>\n",
       "      <td>11.625</td>\n",
       "      <td>15.000</td>\n",
       "      <td>13.3125</td>\n",
       "      <td>31</td>\n",
       "    </tr>\n",
       "    <tr>\n",
       "      <th>9.0</th>\n",
       "      <td>15.000</td>\n",
       "      <td>18.375</td>\n",
       "      <td>16.6875</td>\n",
       "      <td>29</td>\n",
       "    </tr>\n",
       "    <tr>\n",
       "      <th>10.0</th>\n",
       "      <td>18.375</td>\n",
       "      <td>21.750</td>\n",
       "      <td>20.0625</td>\n",
       "      <td>3</td>\n",
       "    </tr>\n",
       "    <tr>\n",
       "      <th>11.0</th>\n",
       "      <td>21.750</td>\n",
       "      <td>25.125</td>\n",
       "      <td>23.4375</td>\n",
       "      <td>7</td>\n",
       "    </tr>\n",
       "    <tr>\n",
       "      <th>12.0</th>\n",
       "      <td>25.125</td>\n",
       "      <td>28.500</td>\n",
       "      <td>26.8125</td>\n",
       "      <td>2</td>\n",
       "    </tr>\n",
       "    <tr>\n",
       "      <th>13.0</th>\n",
       "      <td>28.500</td>\n",
       "      <td>31.875</td>\n",
       "      <td>30.1875</td>\n",
       "      <td>2</td>\n",
       "    </tr>\n",
       "    <tr>\n",
       "      <th>14.0</th>\n",
       "      <td>31.875</td>\n",
       "      <td>35.250</td>\n",
       "      <td>33.5625</td>\n",
       "      <td>0</td>\n",
       "    </tr>\n",
       "    <tr>\n",
       "      <th>15.0</th>\n",
       "      <td>35.250</td>\n",
       "      <td>38.625</td>\n",
       "      <td>36.9375</td>\n",
       "      <td>1</td>\n",
       "    </tr>\n",
       "    <tr>\n",
       "      <th>16.0</th>\n",
       "      <td>38.625</td>\n",
       "      <td>42.000</td>\n",
       "      <td>40.3125</td>\n",
       "      <td>0</td>\n",
       "    </tr>\n",
       "    <tr>\n",
       "      <th>17.0</th>\n",
       "      <td>42.000</td>\n",
       "      <td>45.375</td>\n",
       "      <td>43.6875</td>\n",
       "      <td>0</td>\n",
       "    </tr>\n",
       "    <tr>\n",
       "      <th>18.0</th>\n",
       "      <td>45.375</td>\n",
       "      <td>48.750</td>\n",
       "      <td>47.0625</td>\n",
       "      <td>0</td>\n",
       "    </tr>\n",
       "    <tr>\n",
       "      <th>19.0</th>\n",
       "      <td>48.750</td>\n",
       "      <td>52.125</td>\n",
       "      <td>50.4375</td>\n",
       "      <td>0</td>\n",
       "    </tr>\n",
       "    <tr>\n",
       "      <th>20.0</th>\n",
       "      <td>52.125</td>\n",
       "      <td>55.500</td>\n",
       "      <td>53.8125</td>\n",
       "      <td>0</td>\n",
       "    </tr>\n",
       "    <tr>\n",
       "      <th>21.0</th>\n",
       "      <td>55.500</td>\n",
       "      <td>58.875</td>\n",
       "      <td>57.1875</td>\n",
       "      <td>0</td>\n",
       "    </tr>\n",
       "    <tr>\n",
       "      <th>22.0</th>\n",
       "      <td>58.875</td>\n",
       "      <td>62.250</td>\n",
       "      <td>60.5625</td>\n",
       "      <td>0</td>\n",
       "    </tr>\n",
       "    <tr>\n",
       "      <th>23.0</th>\n",
       "      <td>62.250</td>\n",
       "      <td>65.625</td>\n",
       "      <td>63.9375</td>\n",
       "      <td>0</td>\n",
       "    </tr>\n",
       "    <tr>\n",
       "      <th>24.0</th>\n",
       "      <td>65.625</td>\n",
       "      <td>69.000</td>\n",
       "      <td>67.3125</td>\n",
       "      <td>1</td>\n",
       "    </tr>\n",
       "  </tbody>\n",
       "</table>\n",
       "</div>"
      ],
      "text/plain": [
       "       start     end  class_mark  frec_abs\n",
       "1.0  -12.000  -8.625    -10.3125         4\n",
       "2.0   -8.625  -5.250     -6.9375         4\n",
       "3.0   -5.250  -1.875     -3.5625        21\n",
       "4.0   -1.875   1.500     -0.1875      2940\n",
       "5.0    1.500   4.875      3.1875      1378\n",
       "6.0    4.875   8.250      6.5625       263\n",
       "7.0    8.250  11.625      9.9375        72\n",
       "8.0   11.625  15.000     13.3125        31\n",
       "9.0   15.000  18.375     16.6875        29\n",
       "10.0  18.375  21.750     20.0625         3\n",
       "11.0  21.750  25.125     23.4375         7\n",
       "12.0  25.125  28.500     26.8125         2\n",
       "13.0  28.500  31.875     30.1875         2\n",
       "14.0  31.875  35.250     33.5625         0\n",
       "15.0  35.250  38.625     36.9375         1\n",
       "16.0  38.625  42.000     40.3125         0\n",
       "17.0  42.000  45.375     43.6875         0\n",
       "18.0  45.375  48.750     47.0625         0\n",
       "19.0  48.750  52.125     50.4375         0\n",
       "20.0  52.125  55.500     53.8125         0\n",
       "21.0  55.500  58.875     57.1875         0\n",
       "22.0  58.875  62.250     60.5625         0\n",
       "23.0  62.250  65.625     63.9375         0\n",
       "24.0  65.625  69.000     67.3125         1"
      ]
     },
     "execution_count": 7,
     "metadata": {},
     "output_type": "execute_result"
    }
   ],
   "source": [
    "bin_size = (newe['score'].sample(frac = 0.1).max() - newe['score'].sample(frac = 0.1).min()) // 5\n",
    "# print(bin_size)\n",
    "abs_freq, intervals = np.histogram(newe['score'].sample(frac = .1), bins = 24)\n",
    "# print(abs_freq)\n",
    "# print(intervals)\n",
    "fdist = pd.DataFrame(index = np.linspace(1,24,24), columns = ['start', 'end', 'class_mark','frec_abs'])\n",
    "\n",
    "fdist['start'] = intervals[:-1]\n",
    "fdist['end'] = intervals[1:]\n",
    "\n",
    "fdist['class_mark'] = (fdist['start'] + fdist['end'])/2\n",
    "fdist['frec_abs'] = abs_freq\n",
    "fdist"
   ]
  },
  {
   "cell_type": "code",
   "execution_count": 8,
   "metadata": {},
   "outputs": [
    {
     "data": {
      "text/plain": [
       "Text(0.5, 1.0, 'Absolute Frequency Histogram')"
      ]
     },
     "execution_count": 8,
     "metadata": {},
     "output_type": "execute_result"
    },
    {
     "data": {
      "image/png": "[encoded data removed]",
      "text/plain": [
       "<Figure size 432x288 with 1 Axes>"
      ]
     },
     "metadata": {},
     "output_type": "display_data"
    }
   ],
   "source": [
    "#create bar plot\n",
    "plt.bar(fdist['class_mark'], fdist['frec_abs'], width = bin_size//2, color = 'red', ec = 'black', alpha = 1)\n",
    "#add labels\n",
    "plt.ylabel('Absolute Frequency', fontsize = 12)\n",
    "plt.xlabel('Score', fontsize = 12)\n",
    "plt.xticks(fontsize = 12)\n",
    "plt.yticks(fontsize = 12)\n",
    "#title \n",
    "plt.title('Absolute Frequency Histogram', fontsize = 16)"
   ]
  },
  {
   "cell_type": "markdown",
   "metadata": {},
   "source": [
    "PART 2"
   ]
  },
  {
   "cell_type": "markdown",
   "metadata": {},
   "source": [
    "Standardize\n"
   ]
  },
  {
   "cell_type": "code",
   "execution_count": 9,
   "metadata": {},
   "outputs": [
    {
     "data": {
      "text/html": [
       "<div>\n",
       "<style scoped>\n",
       "    .dataframe tbody tr th:only-of-type {\n",
       "        vertical-align: middle;\n",
       "    }\n",
       "\n",
       "    .dataframe tbody tr th {\n",
       "        vertical-align: top;\n",
       "    }\n",
       "\n",
       "    .dataframe thead th {\n",
       "        text-align: right;\n",
       "    }\n",
       "</style>\n",
       "<table border=\"1\" class=\"dataframe\">\n",
       "  <thead>\n",
       "    <tr style=\"text-align: right;\">\n",
       "      <th></th>\n",
       "      <th>posemo</th>\n",
       "      <th>negemo</th>\n",
       "      <th>anx</th>\n",
       "      <th>anger</th>\n",
       "      <th>sad</th>\n",
       "      <th>focuspast</th>\n",
       "      <th>focuspresent</th>\n",
       "      <th>focusfuture</th>\n",
       "      <th>work</th>\n",
       "    </tr>\n",
       "  </thead>\n",
       "  <tbody>\n",
       "    <tr>\n",
       "      <th>0</th>\n",
       "      <td>0.283373</td>\n",
       "      <td>-0.408666</td>\n",
       "      <td>-0.208507</td>\n",
       "      <td>-0.181134</td>\n",
       "      <td>-0.174693</td>\n",
       "      <td>-0.016786</td>\n",
       "      <td>-0.228260</td>\n",
       "      <td>-0.536302</td>\n",
       "      <td>0.168556</td>\n",
       "    </tr>\n",
       "    <tr>\n",
       "      <th>1</th>\n",
       "      <td>0.547574</td>\n",
       "      <td>0.581886</td>\n",
       "      <td>-0.208507</td>\n",
       "      <td>-0.181134</td>\n",
       "      <td>1.804169</td>\n",
       "      <td>0.198473</td>\n",
       "      <td>0.160914</td>\n",
       "      <td>-0.536302</td>\n",
       "      <td>0.597959</td>\n",
       "    </tr>\n",
       "    <tr>\n",
       "      <th>2</th>\n",
       "      <td>2.128463</td>\n",
       "      <td>-0.408666</td>\n",
       "      <td>-0.208507</td>\n",
       "      <td>-0.181134</td>\n",
       "      <td>-0.174693</td>\n",
       "      <td>-0.707190</td>\n",
       "      <td>0.006916</td>\n",
       "      <td>-0.536302</td>\n",
       "      <td>-1.214299</td>\n",
       "    </tr>\n",
       "    <tr>\n",
       "      <th>3</th>\n",
       "      <td>1.116953</td>\n",
       "      <td>-0.408666</td>\n",
       "      <td>-0.208507</td>\n",
       "      <td>-0.181134</td>\n",
       "      <td>-0.174693</td>\n",
       "      <td>0.111845</td>\n",
       "      <td>0.753030</td>\n",
       "      <td>1.857943</td>\n",
       "      <td>-0.667467</td>\n",
       "    </tr>\n",
       "    <tr>\n",
       "      <th>4</th>\n",
       "      <td>-0.567460</td>\n",
       "      <td>-0.408666</td>\n",
       "      <td>-0.208507</td>\n",
       "      <td>-0.181134</td>\n",
       "      <td>-0.174693</td>\n",
       "      <td>0.836376</td>\n",
       "      <td>-0.081424</td>\n",
       "      <td>0.214533</td>\n",
       "      <td>-0.183730</td>\n",
       "    </tr>\n",
       "  </tbody>\n",
       "</table>\n",
       "</div>"
      ],
      "text/plain": [
       "     posemo    negemo       anx     anger       sad  focuspast  focuspresent  \\\n",
       "0  0.283373 -0.408666 -0.208507 -0.181134 -0.174693  -0.016786     -0.228260   \n",
       "1  0.547574  0.581886 -0.208507 -0.181134  1.804169   0.198473      0.160914   \n",
       "2  2.128463 -0.408666 -0.208507 -0.181134 -0.174693  -0.707190      0.006916   \n",
       "3  1.116953 -0.408666 -0.208507 -0.181134 -0.174693   0.111845      0.753030   \n",
       "4 -0.567460 -0.408666 -0.208507 -0.181134 -0.174693   0.836376     -0.081424   \n",
       "\n",
       "   focusfuture      work  \n",
       "0    -0.536302  0.168556  \n",
       "1    -0.536302  0.597959  \n",
       "2    -0.536302 -1.214299  \n",
       "3     1.857943 -0.667467  \n",
       "4     0.214533 -0.183730  "
      ]
     },
     "execution_count": 9,
     "metadata": {},
     "output_type": "execute_result"
    }
   ],
   "source": [
    "x = newe.drop(columns = ['CommentContent','score'])\n",
    "y = newe['score']\n",
    "\n",
    "x_std = StandardScaler().fit_transform(x)\n",
    "xnew = pd.DataFrame(x_std, columns = list(x.columns))\n",
    "xnew.head()\n",
    "# print(len(xnew))\n",
    "# print(x.shape)\n",
    "# print(y.shape)"
   ]
  },
  {
   "cell_type": "markdown",
   "metadata": {},
   "source": [
    "PCA && Mean Squared Error"
   ]
  },
  {
   "cell_type": "code",
   "execution_count": 10,
   "metadata": {},
   "outputs": [
    {
     "data": {
      "text/plain": [
       "'\\nshows need at least 5 components to get around 90% of the variance\\n'"
      ]
     },
     "execution_count": 10,
     "metadata": {},
     "output_type": "execute_result"
    },
    {
     "data": {
      "image/png": "[encoded data removed]",
      "text/plain": [
       "<Figure size 432x288 with 1 Axes>"
      ]
     },
     "metadata": {},
     "output_type": "display_data"
    }
   ],
   "source": [
    "'chart showing number of componentes to total variance'\n",
    "pca = PCA()\n",
    "pca.fit_transform(xnew)\n",
    "plt.plot(np.cumsum(pca.explained_variance_ratio_))\n",
    "plt.xlabel('Number of Components')\n",
    "plt.ylabel('Cumulative explained Variance')\n",
    "plt.title ('Cumulative Sum PCA', fontsize = 16)\n",
    "'''\n",
    "shows need at least 5 components to get around 90% of the variance\n",
    "'''\n",
    "\n",
    "\n"
   ]
  },
  {
   "cell_type": "code",
   "execution_count": 11,
   "metadata": {},
   "outputs": [
    {
     "data": {
      "text/plain": [
       "8.87"
      ]
     },
     "execution_count": 11,
     "metadata": {},
     "output_type": "execute_result"
    }
   ],
   "source": [
    "pca = PCA(n_components = 6)\n",
    "xpca = pca.fit_transform(xnew)\n",
    "\n",
    "x_train, x_test, y_train, y_test = train_test_split(xpca, y, test_size= .8, random_state = 10)\n",
    "lm = LinearRegression().fit(x_train, y_train)\n",
    "y_pred = lm.predict(x_test)\n",
    "\n",
    "round(mean_squared_error(y_test, y_pred), 2)\n"
   ]
  },
  {
   "cell_type": "markdown",
   "metadata": {},
   "source": [
    "Linear Regression Ranked Importance"
   ]
  },
  {
   "cell_type": "code",
   "execution_count": 12,
   "metadata": {},
   "outputs": [
    {
     "name": "stdout",
     "output_type": "stream",
     "text": [
      "posemo: 0.0545138416797177\n",
      "negemo: 0.07300666682714453\n",
      "anx: 0.1065057812689511\n",
      "anger: -0.010791893254739502\n",
      "sad: 0.011297014903718615\n",
      "focuspast: 0.02985382644834194\n"
     ]
    }
   ],
   "source": [
    "#initialize LR and fit model \n",
    "# model = LinearRegression().fit(xnew, y)\n",
    "\n",
    "#name important features\n",
    "imp = lm.coef_\n",
    "#name column names from df x \n",
    "colnames = xnew.columns\n",
    "# print(len(colnames))\n",
    "# print(len(imp))\n",
    "for i in range(0,6):\n",
    "    print(colnames[i]+': '+str(imp[i]))"
   ]
  },
  {
   "cell_type": "code",
   "execution_count": 13,
   "metadata": {},
   "outputs": [
    {
     "name": "stdout",
     "output_type": "stream",
     "text": [
      "Feature      Value\n",
      "anx          : 0.11\n",
      "negemo       : 0.07\n",
      "posemo       : 0.05\n",
      "focuspast    : 0.03\n",
      "sad          : 0.01\n",
      "anger        : -0.01\n"
     ]
    }
   ],
   "source": [
    "#Ranked importance \n",
    "\n",
    "dic = dict(zip(colnames, imp))\n",
    "sort_x = sorted(dic.items(), key = operator.itemgetter(1), reverse = True)\n",
    "print('Feature'+(' '* 6)+'Value')\n",
    "for i in sort_x:\n",
    "    print(i[0]+(' '*(len('focuspresent:') - len(i[0])))+': '+str(round(i[1],2)))\n"
   ]
  },
  {
   "cell_type": "markdown",
   "metadata": {},
   "source": [
    "PART 3 "
   ]
  },
  {
   "cell_type": "markdown",
   "metadata": {},
   "source": [
    "Clustering (KNN) "
   ]
  },
  {
   "cell_type": "markdown",
   "metadata": {},
   "source": [
    "Normalize data "
   ]
  },
  {
   "cell_type": "code",
   "execution_count": 14,
   "metadata": {},
   "outputs": [
    {
     "name": "stderr",
     "output_type": "stream",
     "text": [
      "/opt/anaconda3/lib/python3.9/site-packages/sklearn/model_selection/_split.py:666: UserWarning: The least populated class in y has only 1 members, which is less than n_splits=5.\n",
      "  warnings.warn((\"The least populated class in y has only %d\"\n",
      "/opt/anaconda3/lib/python3.9/site-packages/sklearn/model_selection/_split.py:666: UserWarning: The least populated class in y has only 1 members, which is less than n_splits=5.\n",
      "  warnings.warn((\"The least populated class in y has only %d\"\n",
      "/opt/anaconda3/lib/python3.9/site-packages/sklearn/model_selection/_split.py:666: UserWarning: The least populated class in y has only 1 members, which is less than n_splits=5.\n",
      "  warnings.warn((\"The least populated class in y has only %d\"\n",
      "/opt/anaconda3/lib/python3.9/site-packages/sklearn/model_selection/_split.py:666: UserWarning: The least populated class in y has only 1 members, which is less than n_splits=5.\n",
      "  warnings.warn((\"The least populated class in y has only %d\"\n",
      "/opt/anaconda3/lib/python3.9/site-packages/sklearn/model_selection/_split.py:666: UserWarning: The least populated class in y has only 1 members, which is less than n_splits=5.\n",
      "  warnings.warn((\"The least populated class in y has only %d\"\n",
      "/opt/anaconda3/lib/python3.9/site-packages/sklearn/model_selection/_split.py:666: UserWarning: The least populated class in y has only 1 members, which is less than n_splits=5.\n",
      "  warnings.warn((\"The least populated class in y has only %d\"\n",
      "/opt/anaconda3/lib/python3.9/site-packages/sklearn/model_selection/_split.py:666: UserWarning: The least populated class in y has only 1 members, which is less than n_splits=5.\n",
      "  warnings.warn((\"The least populated class in y has only %d\"\n",
      "/opt/anaconda3/lib/python3.9/site-packages/sklearn/model_selection/_split.py:666: UserWarning: The least populated class in y has only 1 members, which is less than n_splits=5.\n",
      "  warnings.warn((\"The least populated class in y has only %d\"\n"
     ]
    },
    {
     "name": "stdout",
     "output_type": "stream",
     "text": [
      "[3, 4, 5, 6, 7, 8, 9, 10]\n",
      "[0.49, 0.51, 0.53, 0.54, 0.54, 0.55, 0.56, 0.56]\n"
     ]
    }
   ],
   "source": [
    "xdf =MinMaxScaler().fit_transform(x)\n",
    "nxdf = pd.DataFrame(xdf, columns= list(x.columns))\n",
    "\n",
    "xval = []\n",
    "yval = []\n",
    "\n",
    "for k in range (3,11):\n",
    "    xval.append(k)\n",
    "    knn = KNeighborsClassifier(n_neighbors= k)\n",
    "    yval.append(round(np.mean(cross_val_score(knn,nxdf, y, cv = 5)),2))\n",
    "\n",
    "print(xval)\n",
    "print(yval)\n",
    "# #Uneven values in KNN, can assume that the feature \n",
    "# ##values in the data set are not good for predictive analysis\n",
    "\n",
    "\n"
   ]
  },
  {
   "cell_type": "markdown",
   "metadata": {},
   "source": [
    "Accuracy score"
   ]
  },
  {
   "cell_type": "code",
   "execution_count": 15,
   "metadata": {},
   "outputs": [
    {
     "data": {
      "text/plain": [
       "0.5337326607818411"
      ]
     },
     "execution_count": 15,
     "metadata": {},
     "output_type": "execute_result"
    }
   ],
   "source": [
    "xtrain, xtest, ytrain, ytest = train_test_split(nxdf, y, test_size= .8, random_state = 10)\n",
    "knn = KNeighborsClassifier().fit(x_train, y_train)\n",
    "ypred = knn.predict(x_test)\n",
    "accuracy_score(ytest, ypred)"
   ]
  },
  {
   "cell_type": "markdown",
   "metadata": {},
   "source": [
    "Plot KNN"
   ]
  },
  {
   "cell_type": "code",
   "execution_count": 16,
   "metadata": {},
   "outputs": [
    {
     "data": {
      "image/png": "[encoded data removed]",
      "text/plain": [
       "<Figure size 432x288 with 1 Axes>"
      ]
     },
     "metadata": {},
     "output_type": "display_data"
    }
   ],
   "source": [
    "plt.scatter(xval,yval)\n",
    "plt.title('KNN Scatter Plot', fontsize = 16)\n",
    "plt.xlabel('X Val', fontsize = 14)\n",
    "plt.ylabel('KNN Value', fontsize = 14)\n",
    "plt.show()"
   ]
  }
 ],
 "metadata": {
  "interpreter": {
   "hash": "40d3a090f54c6569ab1632332b64b2c03c39dcf918b08424e98f38b5ae0af88f"
  },
  "kernelspec": {
   "display_name": "Python 3.9.7 ('base')",
   "language": "python",
   "name": "python3"
  },
  "language_info": {
   "codemirror_mode": {
    "name": "ipython",
    "version": 3
   },
   "file_extension": ".py",
   "mimetype": "text/x-python",
   "name": "python",
   "nbconvert_exporter": "python",
   "pygments_lexer": "ipython3",
   "version": "3.9.7"
  },
  "orig_nbformat": 4
 },
 "nbformat": 4,
 "nbformat_minor": 2
}
